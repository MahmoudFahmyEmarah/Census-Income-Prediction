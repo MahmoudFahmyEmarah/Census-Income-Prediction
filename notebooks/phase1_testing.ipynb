{
 "cells": [
  {
   "cell_type": "markdown",
   "metadata": {},
   "source": [
    "# Phase 1 Testing: Data Infrastructure & EDA\n",
    "\n",
    "This notebook tests the Phase 1 implementation including:\n",
    "- Data loading pipeline\n",
    "- Data quality assessment\n",
    "- Data leakage detection\n",
    "- Comprehensive visualizations"
   ]
  },
  {
   "cell_type": "code",
   "execution_count": null,
   "metadata": {},
   "outputs": [],
   "source": [
    "import sys\n",
    "sys.path.append('../')\n",
    "\n",
    "from src.data_pipeline import DataPipeline\n",
    "import pandas as pd\n",
    "import numpy as np\n",
    "from config import *"
   ]
  },
  {
   "cell_type": "markdown",
   "metadata": {},
   "source": [
    "## Test 1: Data Loading"
   ]
  },
  {
   "cell_type": "code",
   "execution_count": null,
   "metadata": {},
   "outputs": [],
   "source": [
    "# Initialize pipeline\n",
    "pipeline = DataPipeline()\n",
    "\n",
    "# Test data loading\n",
    "train_data, test_data = pipeline.load_data()\n",
    "\n",
    "print(f\"Training data shape: {train_data.shape}\")\n",
    "print(f\"Test data shape: {test_data.shape}\")\n",
    "print(f\"Training columns: {list(train_data.columns)}\")\n",
    "print(f\"Target distribution (train): {train_data[TARGET_COLUMN].value_counts()}\")"
   ]
  },
  {
   "cell_type": "markdown",
   "metadata": {},
   "source": [
    "## Test 2: Data Quality Assessment"
   ]
  },
  {
   "cell_type": "code",
   "execution_count": null,
   "metadata": {},
   "outputs": [],
   "source": [
    "# Test data quality assessment\n",
    "quality_report = pipeline.assess_data_quality()\n",
    "\n",
    "print(\"Data Quality Summary:\")\n",
    "print(f\"Training duplicates: {quality_report['train']['duplicates']}\")\n",
    "print(f\"Test duplicates: {quality_report['test']['duplicates']}\")\n",
    "print(f\"Training memory usage: {quality_report['train']['memory_usage']:.2f} MB\")\n",
    "print(f\"Test memory usage: {quality_report['test']['memory_usage']:.2f} MB\")\n",
    "\n",
    "# Show features with missing values\n",
    "missing_features = {k: v for k, v in quality_report['train']['missing_values'].items() if v > 0}\n",
    "print(f\"\\nFeatures with missing values: {missing_features}\")"
   ]
  },
  {
   "cell_type": "markdown",
   "metadata": {},
   "source": [
    "## Test 3: Data Leakage Detection"
   ]
  },
  {
   "cell_type": "code",
   "execution_count": null,
   "metadata": {},
   "outputs": [],
   "source": [
    "# Test data leakage detection\n",
    "leakage_report = pipeline.detect_data_leakage()\n",
    "\n",
    "print(\"Data Leakage Analysis:\")\n",
    "print(f\"High correlations: {leakage_report['high_correlations']}\")\n",
    "print(f\"Temporal leakage: {leakage_report['temporal_leakage']}\")\n",
    "print(f\"Target leakage: {leakage_report['target_leakage']}\")\n",
    "print(f\"Suspicious features: {leakage_report['suspicious_features']}\")"
   ]
  },
  {
   "cell_type": "markdown",
   "metadata": {},
   "source": [
    "## Test 4: Visualization Generation"
   ]
  },
  {
   "cell_type": "code",
   "execution_count": null,
   "metadata": {},
   "outputs": [],
   "source": [
    "# Test visualization generation\n",
    "pipeline.create_comprehensive_visualizations()\n",
    "\n",
    "# Check if visualization files were created\n",
    "viz_dir = REPORTS_DIR / \"visualizations\"\n",
    "viz_files = list(viz_dir.glob(\"*.png\"))\n",
    "print(f\"Generated {len(viz_files)} visualization files:\")\n",
    "for file in viz_files:\n",
    "    print(f\"  - {file.name}\")"
   ]
  },
  {
   "cell_type": "markdown",
   "metadata": {},
   "source": [
    "## Test 5: EDA Report Generation"
   ]
  },
  {
   "cell_type": "code",
   "execution_count": null,
   "metadata": {},
   "outputs": [],
   "source": [
    "# Test EDA report generation\n",
    "pipeline.generate_eda_report()\n",
    "\n",
    "# Check if report was created\n",
    "report_file = REPORTS_DIR / \"eda_report.md\"\n",
    "if report_file.exists():\n",
    "    print(f\"EDA report created: {report_file}\")\n",
    "    print(f\"Report size: {report_file.stat().st_size} bytes\")\n",
    "else:\n",
    "    print(\"EDA report not found!\")"
   ]
  },
  {
   "cell_type": "markdown",
   "metadata": {},
   "source": [
    "## Test 6: Complete Phase 1 Pipeline"
   ]
  },
  {
   "cell_type": "code",
   "execution_count": null,
   "metadata": {},
   "outputs": [],
   "source": [
    "# Test complete Phase 1 pipeline\n",
    "results = pipeline.run_phase1()\n",
    "\n",
    "print(\"Phase 1 Results:\")\n",
    "print(f\"Training shape: {results['train_shape']}\")\n",
    "print(f\"Test shape: {results['test_shape']}\")\n",
    "print(f\"Phase status: {results['phase_status']}\")\n",
    "print(f\"Suspicious features: {len(results['leakage_analysis']['suspicious_features'])}\")\n",
    "\n",
    "# Validate all deliverables\n",
    "deliverables = [\n",
    "    REPORTS_DIR / \"data_quality_report.csv\",\n",
    "    REPORTS_DIR / \"data_leakage_report.txt\",\n",
    "    REPORTS_DIR / \"eda_report.md\",\n",
    "    REPORTS_DIR / \"visualizations\"\n",
    "]\n",
    "\n",
    "print(\"\\nDeliverables Check:\")\n",
    "for deliverable in deliverables:\n",
    "    if deliverable.exists():\n",
    "        print(f\"✓ {deliverable.name}\")\n",
    "    else:\n",
    "        print(f\"✗ {deliverable.name}\")"
   ]
  }
 ],
 "metadata": {
  "kernelspec": {
   "display_name": "Python 3",
   "language": "python",
   "name": "python3"
  },
  "language_info": {
   "codemirror_mode": {
    "name": "ipython",
    "version": 3
   },
   "file_extension": ".py",
   "mimetype": "text/x-python",
   "name": "python",
   "nbconvert_exporter": "python",
   "pygments_lexer": "ipython3",
   "version": "3.11.0"
  }
 },
 "nbformat": 4,
 "nbformat_minor": 4
}

